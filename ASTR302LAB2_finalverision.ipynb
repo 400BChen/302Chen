{
 "cells": [
  {
   "cell_type": "markdown",
   "metadata": {},
   "source": [
    "# ASTR302 Lab 2: Statistical Distributions"
   ]
  },
  {
   "cell_type": "markdown",
   "metadata": {},
   "source": [
    "In the Lab 1 tutorials you were introduced to the python language using several Jupyter notebooks.  You will now use those skills to explore the statistical distributions we discussed in lecture."
   ]
  },
  {
   "cell_type": "markdown",
   "metadata": {},
   "source": [
    "## Jupyter Review"
   ]
  },
  {
   "cell_type": "markdown",
   "metadata": {},
   "source": [
    "Each entry in a Jupyter notebook is called a cell.  \n",
    "\n",
    "You can run the contents of individual cells by selecting them and pressing **CTRL-Enter**.\n",
    "\n",
    "You can run the contents of individual cells AND add a new cell underneath by pressing **ALT-Enter**.\n",
    "\n",
    "You can delete a cell by selecting it and pressing **d** twice.\n",
    "\n",
    "You can add a text block like this cell by pressing **Esc-m** (or use the dropdown at the top and change from Code to Markdown.  This is useful for adding in notes that you want to remember.\n",
    "\n",
    "You can find more information on Jupyter notebooks here: \n",
    "https://jupyter-notebook.readthedocs.io/en/stable/\n",
    "***"
   ]
  },
  {
   "cell_type": "markdown",
   "metadata": {},
   "source": [
    "## Python Review"
   ]
  },
  {
   "cell_type": "markdown",
   "metadata": {},
   "source": [
    "The core python programming language provides a small number of built-in functions.  You can see a description of them here: https://docs.python.org/3/library/functions.html . Most of the high-level functions you will want for numerical data analysis are not built-in.  You access these by importing *packages*.  \n",
    "\n",
    "The Anaconda distribution you installed included a large library of packages, but in order to use them you need to first import them into your current programing environment.\n",
    "\n",
    "You can import an entire package like this:"
   ]
  },
  {
   "cell_type": "code",
   "execution_count": null,
   "metadata": {},
   "outputs": [],
   "source": [
    "import astropy"
   ]
  },
  {
   "cell_type": "markdown",
   "metadata": {},
   "source": [
    "This gives you access to the *astropy* package, which provides numerous astronomical utilities.  There are sub-packages within *astropy*, such as *constants*, which contains useful astronomical constants.  You import the subpackage like this:"
   ]
  },
  {
   "cell_type": "code",
   "execution_count": 9,
   "metadata": {},
   "outputs": [
    {
     "name": "stdout",
     "output_type": "stream",
     "text": [
      "  Name   = Planck constant\n",
      "  Value  = 6.62607004e-34\n",
      "  Uncertainty  = 8.1e-42\n",
      "  Unit  = J s\n",
      "  Reference = CODATA 2014\n",
      "6.62607004e-34\n"
     ]
    }
   ],
   "source": [
    "import astropy.constants\n",
    "h = astropy.constants.h  #Retrieve the speed of light, and store in variable 'c'\n",
    "print(h) #Print a variable using the print object\n",
    "print(h.value) #Get just the value"
   ]
  },
  {
   "cell_type": "markdown",
   "metadata": {},
   "source": [
    "You will frequently see someone do imports like this:"
   ]
  },
  {
   "cell_type": "code",
   "execution_count": 5,
   "metadata": {},
   "outputs": [],
   "source": [
    "from datetime import *"
   ]
  },
  {
   "cell_type": "markdown",
   "metadata": {},
   "source": [
    "This says *from the datetime package, import everything directly into the current environment.* **This is very bad, and you should not do it.**  If two different packages have functions in them that are named the same thing, and if you import both of them like this, then they will overwrite each other and your code will be confusing.  \n",
    "\n",
    "*There are a few exceptions to this rule, but you will likely not encounter them in this class.*\n",
    "\n",
    "***"
   ]
  },
  {
   "cell_type": "markdown",
   "metadata": {},
   "source": [
    "## Mathematics"
   ]
  },
  {
   "cell_type": "markdown",
   "metadata": {},
   "source": [
    "To calculate things we need to import a mathematical package.  *numpy* is the standard."
   ]
  },
  {
   "cell_type": "code",
   "execution_count": 16,
   "metadata": {},
   "outputs": [],
   "source": [
    "import numpy as np"
   ]
  },
  {
   "cell_type": "markdown",
   "metadata": {},
   "source": [
    "Note that I am both importing the 'numpy' package, and changing its name (in this session) to 'np'.  This is because I am lazy and typing 'np' is faster than typing 'numpy'.\n",
    "\n",
    "You can find the documentation on the numpy package here: [https://numpy.org/devdocs/reference/index.html](https://numpy.org/devdocs/reference/index.html) . I found this by searching for 'numpy manual'.\n",
    "\n",
    "Numpy allows you to create vector and matrix arrays:"
   ]
  },
  {
   "cell_type": "code",
   "execution_count": 14,
   "metadata": {},
   "outputs": [
    {
     "data": {
      "text/plain": [
       "array([ 2,  4,  6,  8, 10, 12, 14, 16, 18, 20])"
      ]
     },
     "execution_count": 14,
     "metadata": {},
     "output_type": "execute_result"
    }
   ],
   "source": [
    "v = np.array([2,4,6,8,10,12,14,16,18,20])\n",
    "v"
   ]
  },
  {
   "cell_type": "markdown",
   "metadata": {},
   "source": [
    "Note that I did not use print(v).  Instead I asked python to give me information about the object itself.  It tells me that it is *type* array, and has elements [1, 2, 3, 4]"
   ]
  },
  {
   "cell_type": "code",
   "execution_count": 15,
   "metadata": {},
   "outputs": [
    {
     "name": "stdout",
     "output_type": "stream",
     "text": [
      "[ 2  4  6  8 10 12 14 16 18 20]\n"
     ]
    }
   ],
   "source": [
    "print(v)"
   ]
  },
  {
   "cell_type": "markdown",
   "metadata": {},
   "source": [
    "Print just shows the contents (as a python list).\n",
    "\n",
    "Now make a bigger array:"
   ]
  },
  {
   "cell_type": "code",
   "execution_count": 17,
   "metadata": {},
   "outputs": [],
   "source": [
    "v = np.arange(0,500,5) #This arange call creates a long array from 0 to 10000 with step size = 1"
   ]
  },
  {
   "cell_type": "code",
   "execution_count": 18,
   "metadata": {},
   "outputs": [
    {
     "data": {
      "text/plain": [
       "array([  0,   5,  10,  15,  20,  25,  30,  35,  40,  45,  50,  55,  60,\n",
       "        65,  70,  75,  80,  85,  90,  95, 100, 105, 110, 115, 120, 125,\n",
       "       130, 135, 140, 145, 150, 155, 160, 165, 170, 175, 180, 185, 190,\n",
       "       195, 200, 205, 210, 215, 220, 225, 230, 235, 240, 245, 250, 255,\n",
       "       260, 265, 270, 275, 280, 285, 290, 295, 300, 305, 310, 315, 320,\n",
       "       325, 330, 335, 340, 345, 350, 355, 360, 365, 370, 375, 380, 385,\n",
       "       390, 395, 400, 405, 410, 415, 420, 425, 430, 435, 440, 445, 450,\n",
       "       455, 460, 465, 470, 475, 480, 485, 490, 495])"
      ]
     },
     "execution_count": 18,
     "metadata": {},
     "output_type": "execute_result"
    }
   ],
   "source": [
    "v"
   ]
  },
  {
   "cell_type": "markdown",
   "metadata": {},
   "source": [
    "Note that python doesn't display the entire array, only the ends.\n",
    "\n",
    "***"
   ]
  },
  {
   "cell_type": "markdown",
   "metadata": {},
   "source": [
    "## Uniform Distribution"
   ]
  },
  {
   "cell_type": "markdown",
   "metadata": {},
   "source": [
    "Let's use numpy to generate a uniform set of 100 random numbers from -10 to 10"
   ]
  },
  {
   "cell_type": "code",
   "execution_count": 61,
   "metadata": {},
   "outputs": [],
   "source": [
    "samples = np.random.uniform(-10,10,200)"
   ]
  },
  {
   "cell_type": "markdown",
   "metadata": {},
   "source": [
    "Let's examine those samples:"
   ]
  },
  {
   "cell_type": "code",
   "execution_count": 62,
   "metadata": {},
   "outputs": [
    {
     "name": "stdout",
     "output_type": "stream",
     "text": [
      "[-4.49541502 -1.48209016  6.53292173 -2.52904322 -0.26481039 -9.38471433\n",
      " -1.78947562  9.53890339  3.62802527 -3.56926949 -0.8817991  -2.1381474\n",
      " -8.41298347 -4.47747293 -2.90401681  6.37450982 -1.82935656 -7.83116878\n",
      " -3.72351613  2.60615753  2.66619273  6.22999777  7.52683119 -6.96552973\n",
      " -5.51992461 -4.40095385 -6.85971628  7.50569597 -2.74384652  3.63196219\n",
      "  3.92958614  7.57198834  7.8313528  -9.30029676 -7.76469477  0.64318832\n",
      "  4.40381633  1.65593984  8.36490333 -4.89653764 -3.29239661 -0.62276681\n",
      " -0.19645451  1.38978426 -8.57350257 -2.22721012 -2.10219912 -4.08919155\n",
      "  8.90155381  1.86684503 -8.15010502  3.72923092 -1.14180684  0.7966705\n",
      " -6.6068731   5.51341384  6.75277504  5.86505825 -4.98402771  5.82828533\n",
      " -1.17747852 -2.58788299 -5.37692192 -8.62076767  9.25418493 -9.53106264\n",
      " -7.12996575  2.53056662  6.36854502 -8.85397609 -9.99518652  9.41866476\n",
      " -0.88494092 -3.97036587  6.93314452  6.23592139  7.22295294  6.70132061\n",
      " -5.78869301 -5.99392844  4.92682509  9.66008804 -1.70290728 -0.12246106\n",
      "  3.1626858   2.85544619  8.60008483 -8.55597675 -6.60724986  2.36952495\n",
      " -0.76213154  9.98120244 -3.2524674   6.86253699  4.81088863 -1.94690746\n",
      " -8.50663637 -3.88263135  1.02278305  3.8122883   4.31171911 -1.75449666\n",
      " -1.40608104 -0.7551889  -0.89927458  3.38861391  2.72664837  7.17996939\n",
      "  3.91675705  1.79566676  3.40648573 -4.42402653  3.53183853 -4.47929365\n",
      " -9.68054051  8.08950286 -0.17256486  6.95108936 -9.10353298 -2.91782325\n",
      "  2.76367886  1.06073544  1.19575273 -9.99489143 -2.58048668 -5.98572213\n",
      "  4.55223612  2.98342789  4.30946061  4.70377504  8.94605202  5.5213489\n",
      " -2.96790922  6.0128251   2.80311616 -1.77748725  7.34768823 -3.04645938\n",
      " -8.54220113  2.14674607 -7.31442125  0.18800384 -4.77787074 -9.47230449\n",
      "  8.26721854  7.83019748  3.33167945 -7.68109179 -1.26484997  2.88290713\n",
      " -3.06377514 -7.37608859 -0.99690488  6.84345654  6.69123549 -3.07504106\n",
      "  8.58344947  5.92206148 -6.95977754  8.23733044 -7.55764362  9.954649\n",
      "  9.39569726 -2.9302318   1.72531501  6.71344145 -0.66309112 -2.13354659\n",
      "  7.15573333 -6.69117719  4.41483513 -3.80661759  4.87880179  8.49699018\n",
      " -5.73218465 -9.12763589  4.30302116 -8.19597118  7.01990062 -3.32522661\n",
      " -6.28073486  7.17534834  1.20780504 -6.98433992 -3.41249129  4.77926702\n",
      " -6.77653701  8.19281488  6.47430436  7.34352451  1.96762866 -8.07514651\n",
      "  3.38066168  7.08447465 -0.45630051  8.97733042 -8.68174061  2.02172954\n",
      " -4.43813534  4.20993066]\n"
     ]
    }
   ],
   "source": [
    "print(samples)"
   ]
  },
  {
   "cell_type": "markdown",
   "metadata": {},
   "source": [
    "Create a histogram of those samples, with one bin per integer value:"
   ]
  },
  {
   "cell_type": "code",
   "execution_count": 56,
   "metadata": {},
   "outputs": [],
   "source": [
    "bins = np.linspace(-10,10,21)"
   ]
  },
  {
   "cell_type": "code",
   "execution_count": 58,
   "metadata": {},
   "outputs": [
    {
     "name": "stdout",
     "output_type": "stream",
     "text": [
      "[-10.  -9.  -8.  -7.  -6.  -5.  -4.  -3.  -2.  -1.   0.   1.   2.   3.\n",
      "   4.   5.   6.   7.   8.   9.  10.]\n"
     ]
    }
   ],
   "source": [
    "print(bins)"
   ]
  },
  {
   "cell_type": "code",
   "execution_count": 63,
   "metadata": {},
   "outputs": [],
   "source": [
    "histogram, bins = np.histogram(samples, bins=bins)"
   ]
  },
  {
   "cell_type": "code",
   "execution_count": 64,
   "metadata": {},
   "outputs": [
    {
     "name": "stdout",
     "output_type": "stream",
     "text": [
      "[ 9 11  7  9  6 10 12 12 11 13  3 10 12 12 12  5 15 13 11  7]\n"
     ]
    }
   ],
   "source": [
    "print(histogram)"
   ]
  },
  {
   "cell_type": "markdown",
   "metadata": {},
   "source": [
    "Why did we use linspace instead of array?  Read the documentation on numpy.linspace"
   ]
  },
  {
   "cell_type": "markdown",
   "metadata": {},
   "source": [
    "## Plotting"
   ]
  },
  {
   "cell_type": "markdown",
   "metadata": {},
   "source": [
    "Now we can use the matplotlib package to plot this distribution.  First import it, and configure it to draw within the python notebook"
   ]
  },
  {
   "cell_type": "code",
   "execution_count": 68,
   "metadata": {},
   "outputs": [],
   "source": [
    "import matplotlib.pyplot as plt\n",
    "%matplotlib inline"
   ]
  },
  {
   "cell_type": "markdown",
   "metadata": {},
   "source": [
    "We want the plot to show bin centers halfway between the edge of each bin"
   ]
  },
  {
   "cell_type": "code",
   "execution_count": 71,
   "metadata": {},
   "outputs": [
    {
     "name": "stdout",
     "output_type": "stream",
     "text": [
      "[-9. -8. -7. -6. -5. -4. -3. -2. -1.  0.  1.  2.  3.  4.  5.  6.  7.  8.\n",
      "  9. 10.]\n",
      "[-10.  -9.  -8.  -7.  -6.  -5.  -4.  -3.  -2.  -1.   0.   1.   2.   3.\n",
      "   4.   5.   6.   7.   8.   9.]\n"
     ]
    }
   ],
   "source": [
    "print(bins[1:])\n",
    "print(bins[:-1])"
   ]
  },
  {
   "cell_type": "code",
   "execution_count": 69,
   "metadata": {},
   "outputs": [],
   "source": [
    "bin_centers = 0.5*(bins[1:]+bins[:-1])"
   ]
  },
  {
   "cell_type": "code",
   "execution_count": 67,
   "metadata": {},
   "outputs": [
    {
     "name": "stdout",
     "output_type": "stream",
     "text": [
      "[-9.5 -8.5 -7.5 -6.5 -5.5 -4.5 -3.5 -2.5 -1.5 -0.5  0.5  1.5  2.5  3.5\n",
      "  4.5  5.5  6.5  7.5  8.5  9.5]\n"
     ]
    }
   ],
   "source": [
    "print(bin_centers)"
   ]
  },
  {
   "cell_type": "markdown",
   "metadata": {},
   "source": [
    "Now setup the plot."
   ]
  },
  {
   "cell_type": "code",
   "execution_count": 72,
   "metadata": {},
   "outputs": [
    {
     "data": {
      "image/png": "[encoded data removed]",
      "text/plain": [
       "<Figure size 720x432 with 1 Axes>"
      ]
     },
     "metadata": {
      "needs_background": "light"
     },
     "output_type": "display_data"
    }
   ],
   "source": [
    "plt.figure(figsize=(10,6))\n",
    "plt.plot()\n",
    "plt.plot(bin_centers, histogram)\n",
    "plt.ylim(0,np.max(histogram*1.2))\n",
    "plt.xlabel('Value')\n",
    "plt.ylabel('Frequency (N)')\n",
    "plt.title('Uniform Distribution')\n",
    "plt.show()"
   ]
  },
  {
   "cell_type": "markdown",
   "metadata": {},
   "source": [
    "That doesn't look very uniform.  What happens if we increase the number of points?  Change the size of the sample in the original np.random.uniform call and re-run the notebook steps"
   ]
  },
  {
   "cell_type": "markdown",
   "metadata": {},
   "source": [
    "When plotting histograms, it is useful for the plot to not play 'connect-the-dots'.  Rather, we want step style plots."
   ]
  },
  {
   "cell_type": "code",
   "execution_count": 79,
   "metadata": {},
   "outputs": [
    {
     "data": {
      "image/png": "[encoded data removed]",
      "text/plain": [
       "<Figure size 720x288 with 1 Axes>"
      ]
     },
     "metadata": {
      "needs_background": "light"
     },
     "output_type": "display_data"
    }
   ],
   "source": [
    "plt.figure(figsize=(10,4))\n",
    "plt.plot()\n",
    "plt.step(bin_centers, histogram)\n",
    "plt.ylim(0,np.max(histogram*1.2))\n",
    "plt.xlabel('Value')\n",
    "plt.ylabel('Frequency (N)')\n",
    "plt.title('Uniform Distribution')\n",
    "plt.show()"
   ]
  },
  {
   "cell_type": "markdown",
   "metadata": {},
   "source": [
    "## Gaussian Distribution"
   ]
  },
  {
   "cell_type": "markdown",
   "metadata": {},
   "source": [
    "Now change from a uniform distribution to a normal (or Gaussian) distribution"
   ]
  },
  {
   "cell_type": "code",
   "execution_count": 85,
   "metadata": {},
   "outputs": [],
   "source": [
    "samples = np.random.normal(-10,10,10000)"
   ]
  },
  {
   "cell_type": "markdown",
   "metadata": {},
   "source": [
    "Note that the function parameters for 'normal' are different than for uniform.  Use the numpy manual to figure out what they are."
   ]
  },
  {
   "cell_type": "code",
   "execution_count": 86,
   "metadata": {},
   "outputs": [
    {
     "name": "stdout",
     "output_type": "stream",
     "text": [
      "[ -4.57837502 -20.73107735  -4.40388177 ... -13.55700369 -25.57551377\n",
      " -22.01853253]\n"
     ]
    }
   ],
   "source": [
    "print(samples)"
   ]
  },
  {
   "cell_type": "code",
   "execution_count": 87,
   "metadata": {},
   "outputs": [],
   "source": [
    "histogram, bins = np.histogram(samples, bins=bins)"
   ]
  },
  {
   "cell_type": "code",
   "execution_count": 88,
   "metadata": {},
   "outputs": [
    {
     "data": {
      "image/png": "[encoded data removed]",
      "text/plain": [
       "<Figure size 720x288 with 1 Axes>"
      ]
     },
     "metadata": {
      "needs_background": "light"
     },
     "output_type": "display_data"
    }
   ],
   "source": [
    "plt.figure(figsize=(10,4))\n",
    "plt.plot()\n",
    "plt.step(bin_centers, histogram)\n",
    "plt.ylim(0,np.max(histogram*1.2))\n",
    "plt.xlabel('Value')\n",
    "plt.ylabel('Frequency (N)')\n",
    "plt.title('Uniform Distribution')\n",
    "plt.show()"
   ]
  },
  {
   "cell_type": "markdown",
   "metadata": {},
   "source": [
    "Experiment with changing the standard deviation and center location of the distribution.  You may need to change the range of the bins.  Insert the required code into the notebook above the plotting section."
   ]
  },
  {
   "cell_type": "markdown",
   "metadata": {},
   "source": [
    "## Poisson Distribution"
   ]
  },
  {
   "cell_type": "markdown",
   "metadata": {},
   "source": [
    "The binomial distribution governs the outcome of an experiment where there are two possible outcomes.  This is the coin-flip experiment."
   ]
  },
  {
   "cell_type": "markdown",
   "metadata": {},
   "source": [
    "The distribution has two parameters: n=number of trials; p=success probability for each trial (0<p<1)"
   ]
  },
  {
   "cell_type": "markdown",
   "metadata": {},
   "source": [
    "numpy will generate a binomial distribution.  For a class of 20 students, conducting the coin flip experiment 100 times:"
   ]
  },
  {
   "cell_type": "code",
   "execution_count": 92,
   "metadata": {},
   "outputs": [],
   "source": [
    "n = 20\n",
    "p = 0.5\n",
    "samples = np.random.binomial(n,p,20)"
   ]
  },
  {
   "cell_type": "code",
   "execution_count": 93,
   "metadata": {},
   "outputs": [
    {
     "name": "stdout",
     "output_type": "stream",
     "text": [
      "[ 6 11  9  8 12 12 11 11 11  7 11  9 10 10  6 10  8 11 11 12]\n"
     ]
    }
   ],
   "source": [
    "print(samples)"
   ]
  },
  {
   "cell_type": "code",
   "execution_count": 94,
   "metadata": {},
   "outputs": [],
   "source": [
    "bins = np.linspace(0,20,21)"
   ]
  },
  {
   "cell_type": "code",
   "execution_count": 95,
   "metadata": {},
   "outputs": [
    {
     "name": "stdout",
     "output_type": "stream",
     "text": [
      "[ 0.  1.  2.  3.  4.  5.  6.  7.  8.  9. 10. 11. 12. 13. 14. 15. 16. 17.\n",
      " 18. 19. 20.]\n"
     ]
    }
   ],
   "source": [
    "print(bins)"
   ]
  },
  {
   "cell_type": "code",
   "execution_count": 96,
   "metadata": {},
   "outputs": [],
   "source": [
    "bin_centers = 0.5*(bins[1:]+bins[:-1])"
   ]
  },
  {
   "cell_type": "code",
   "execution_count": 97,
   "metadata": {},
   "outputs": [],
   "source": [
    "histogram, bins = np.histogram(samples, bins=bins)"
   ]
  },
  {
   "cell_type": "code",
   "execution_count": 98,
   "metadata": {},
   "outputs": [
    {
     "data": {
      "image/png": "[encoded data removed]",
      "text/plain": [
       "<Figure size 720x288 with 1 Axes>"
      ]
     },
     "metadata": {
      "needs_background": "light"
     },
     "output_type": "display_data"
    }
   ],
   "source": [
    "plt.figure(figsize=(10,4))\n",
    "plt.plot()\n",
    "plt.step(bin_centers, histogram)\n",
    "plt.ylim(0,np.max(histogram*1.2))\n",
    "plt.xlabel('Number of Occurances')\n",
    "plt.ylabel('Frequency (N)')\n",
    "plt.title('Binomial Distribution')\n",
    "plt.show()"
   ]
  },
  {
   "cell_type": "markdown",
   "metadata": {},
   "source": [
    "**What happens when you increase the number of experiements?  What if you use a six sided dice instead of a coin?**"
   ]
  },
  {
   "cell_type": "markdown",
   "metadata": {},
   "source": [
    "## Poisson Distribution"
   ]
  },
  {
   "cell_type": "markdown",
   "metadata": {},
   "source": [
    "The Poisson distribution gives you the probability of encountering a certain number of events in a given period, if those events are occuring at a known constant mean rate.  This is the distribution that governs most 'counting' situations, including the collection of photons from stars!  This is also the limit of the binomial distribution for large N."
   ]
  },
  {
   "cell_type": "markdown",
   "metadata": {},
   "source": [
    "The distribution has one parameters: the average rate of events, often expressed as lambda"
   ]
  },
  {
   "cell_type": "markdown",
   "metadata": {},
   "source": [
    "Use the Poisson generator in numpy to generate a sample function with a mean rate of 10 and 100 events.\n",
    "\n",
    "(Note: 'lambda' is a built-in function name in python, so we will call this variable 'lam')"
   ]
  },
  {
   "cell_type": "code",
   "execution_count": 99,
   "metadata": {},
   "outputs": [],
   "source": [
    "lam = 4\n",
    "samples = np.random.poisson(lam, 1000)"
   ]
  },
  {
   "cell_type": "code",
   "execution_count": 100,
   "metadata": {},
   "outputs": [
    {
     "name": "stdout",
     "output_type": "stream",
     "text": [
      "[ 4  2  7  5  4  4  3  2  7  4  2  5  3  5  1  7  2  5  3  7  3  3  7  1\n",
      "  5  4  4  4  2  4  4  7  2  4  2  9  4  4  7  3  0  4  4  2  2  7  4  3\n",
      "  3  5  4  7  5  4  2  5  5  1  2  3  0  6  3  9  2  2  4  3  8  2  4  6\n",
      "  4  9  9  4  1  4  2  6  5  4  4  4  6  5  1  5 11  1  2  2  4  3  4  3\n",
      "  4  5  4  8  4  7  6  4  5  5  4  4  6  2  2  4  4  4  4  2  8  6  3  4\n",
      "  3  5  3  0  4  6  8  1  2  5  4  6  7  3  5  7  3  3  5  3  4  4  4  4\n",
      "  6  2  3  3 10  3  4  4  3  2  0  2  2  3  8  3  7  8  5  1  3  1  6  4\n",
      "  4  1  2  6  4  4  7  3  4  4  5  6  2  4  6  2  5  2  4  4  4  7  7  5\n",
      "  4  2  2  5  3  7  6  4  2  1  2  1  3  7  7  4  2  3  8  3  3  3  1  1\n",
      "  6  6  5  0  2  5  7  4  9  5  6  2  6  5  2  2  4  3  1  3  3 10  5  5\n",
      "  0  6  3  1  4  4  8  3  6  5  4  3  1  2  1  3  3  4  5  5  3  3  2  0\n",
      "  4  8  2  6  4  5  9  2  5  7  3  6  9  4  5  2  4  3  3  1  1  5  2  4\n",
      "  8  5  5  1  5  3  5  1  8  6  3  1  6  5  3  5  0  4  4  2  1  7  6  7\n",
      "  3  6 11  5  4  2  2  4  3  2  4  7  3  6  5  2  6  3  7  3  2  3  5  5\n",
      "  3  4  2  5  2  5  2  6  2  6  6  5  4  5  0  4  4  6  4  3  4  9  1  7\n",
      "  4  2  6  5  0  4  7  9  4  1  4  5  9  5  3  2  0  4  7  3  3  7  4  3\n",
      "  5  3  5  6  9  6  0  2  2  3  9  4  8  2  7  2  2  1  5  8  8  5  3  4\n",
      "  2  6  1  4  4  2  4  2  6  2  4  3  3  2  4  2  2 10  4  2  9  3  6  7\n",
      "  7  7  4  5  1  2  5  4  4  4  4  5  3  3  3  5  4  9  4  3  6  5  5 10\n",
      "  6  6  3  5  5  3  1  8  3  4  3  1  1  6  2  1  6  4  3  5  4  3  2  1\n",
      "  2  3  4  6  2  3  7  7  4  4  2  1  5  3  2  0  1  2  6  2  6  6  5  7\n",
      "  3  4  4  3  3  4  5  5  3  3  6  4  5  5  5  2  9  6  2  4  5  8  3  6\n",
      "  2  0  4  3  2  8  2  5  1  2  4  1  8  5 10  1  4  5  4  2  8  2  1  4\n",
      "  2  4  6  2  6  5  4  5  3  3  3  2  5  4  6  6  4  1  5  3  5  4  1  6\n",
      "  4  4  4  2  1  5  3  3 10  1  5  2  4  5  4  4  3  2  5  2  0  2  5  3\n",
      "  3  8  5  4  6  7  3  3  3  4  3  1  4  5  4  5  2  4  6  3  5  6  3  6\n",
      "  6  6  2  3  2  5  1  5  3  6  2  5  6  6  4  6  7  3  3  7  3  5  2  3\n",
      "  4  7  3  1  4  6  3  4  2  3  5  6  3  4  4  6  2  5  4  5  6  8  3  5\n",
      "  1  2  4  2  1  2  5  2  1  2  5  7  4  1  5  4  5  4  6  5  4  3  3  3\n",
      "  4  3  4  2  4  6  6  8  4  4  2  3  2  4  1  5  4  5  8  2  3  4  7  5\n",
      "  5  3  4  2  5  8  2  5  3  4  4  2  5  5  2  5  6  4  5  3  3  5  5  5\n",
      "  0  5  2  3  3  3  2  5  5  5  6  2  4  3  3  3  2  2  4  3  3  4  4  4\n",
      "  3  4  5  2  4  3  3  6  1  1  4  4  6  3  5  2  4  5  4  2  8  3  2  6\n",
      "  5  5  3  4  2  7  1  5  6  8  2  1  6  7  1  8  7  7  4  0  3  2  4  3\n",
      "  7  2  5  3  4  4  3  6  6  6  2  5  3  4  0  6  5  1  3  5  6  6  4  4\n",
      "  4  8  6  5  3  7  6  3  7  3  1  5  5  4  3  6  2  2  5  5  2  8  1  5\n",
      "  4  4  4  6  3  5  8  4  8  8  3  3  3  4  2  6  3  2  3  2  6  2  3  5\n",
      "  2  1  9  3  7  7  3  0  2  4  4  3  3  2  4  5  7  5  6  5  4  7  4  1\n",
      "  2  6  3  2  1  4  3  2  9  3  2  3  2  6  3  2  6  3  4  6  4  2  6  4\n",
      "  6  6  3  5  6  6  7  4  4  5  1  5  1  6  6  6  4  7  3  4  5  1  3  6\n",
      "  6  3  4  5  6  3  5  3  2  0  2  1  3  1  2  6  4  3  4  4  5  5  4  3\n",
      "  3  4  3  6  1  5  6  7  2  6  3  2  1  3  4  3]\n"
     ]
    }
   ],
   "source": [
    "print(samples)"
   ]
  },
  {
   "cell_type": "code",
   "execution_count": 103,
   "metadata": {},
   "outputs": [],
   "source": [
    "histogram, bins = np.histogram(samples, bins=bins)"
   ]
  },
  {
   "cell_type": "code",
   "execution_count": 104,
   "metadata": {},
   "outputs": [],
   "source": [
    "bins = np.linspace(0,20,21)"
   ]
  },
  {
   "cell_type": "code",
   "execution_count": 105,
   "metadata": {},
   "outputs": [],
   "source": [
    "bin_centers = 0.5*(bins[1:]+bins[:-1])"
   ]
  },
  {
   "cell_type": "code",
   "execution_count": 106,
   "metadata": {},
   "outputs": [
    {
     "data": {
      "image/png": "[encoded data removed]",
      "text/plain": [
       "<Figure size 720x288 with 1 Axes>"
      ]
     },
     "metadata": {
      "needs_background": "light"
     },
     "output_type": "display_data"
    }
   ],
   "source": [
    "plt.figure(figsize=(10,4))\n",
    "plt.plot()\n",
    "plt.step(bin_centers, histogram)\n",
    "plt.ylim(0,np.max(histogram*1.2))\n",
    "plt.xlabel('Number of Occurances')\n",
    "plt.ylabel('Frequency (N)')\n",
    "plt.title('Poisson Distribution')\n",
    "plt.show()"
   ]
  },
  {
   "cell_type": "markdown",
   "metadata": {},
   "source": [
    "**Increase the number of samples to smooth out the function**"
   ]
  },
  {
   "cell_type": "code",
   "execution_count": 113,
   "metadata": {},
   "outputs": [
    {
     "data": {
      "image/png": "[encoded data removed]",
      "text/plain": [
       "<Figure size 720x288 with 1 Axes>"
      ]
     },
     "metadata": {
      "needs_background": "light"
     },
     "output_type": "display_data"
    }
   ],
   "source": [
    "import matplotlib.pyplot as plt\n",
    "%matplotlib inline\n",
    "lam = 10\n",
    "#samples = np.random.poisson(lam, 100000)\n",
    "samples = np.random.poisson(lam, 1000000)\n",
    "bins = np.linspace(0,50,51)\n",
    "histogram, bins = np.histogram(samples, bins=bins)\n",
    "bin_centers = 0.5*(bins[1:]+bins[:-1])\n",
    "\n",
    "plt.figure(figsize=(10,4))\n",
    "plt.plot()\n",
    "plt.plot(bin_centers, histogram)\n",
    "plt.ylim(0,np.max(histogram*1.2))\n",
    "plt.xlabel('Number of test')\n",
    "plt.ylabel('Frequency')\n",
    "plt.title('Poisson Distribution')\n",
    "plt.show()\n",
    "\n"
   ]
  },
  {
   "cell_type": "markdown",
   "metadata": {},
   "source": [
    "**What happens to the Poisson distribution at very small lambda?**"
   ]
  },
  {
   "cell_type": "code",
   "execution_count": 123,
   "metadata": {},
   "outputs": [
    {
     "data": {
      "image/png": "[encoded data removed]",
      "text/plain": [
       "<Figure size 720x288 with 1 Axes>"
      ]
     },
     "metadata": {
      "needs_background": "light"
     },
     "output_type": "display_data"
    }
   ],
   "source": [
    "import matplotlib.pyplot as plt\n",
    "%matplotlib inline\n",
    "lam = 0.05\n",
    "#samples = np.random.poisson(lam, 100000)\n",
    "samples = np.random.poisson(lam, 1000000)\n",
    "bins = np.linspace(0,20,21)\n",
    "histogram, bins = np.histogram(samples, bins=bins)\n",
    "bin_centers = 0.5*(bins[1:]+bins[:-1])\n",
    "\n",
    "plt.figure(figsize=(10,4))\n",
    "plt.plot()\n",
    "plt.plot(bin_centers, histogram)\n",
    "plt.ylim(0,np.max(histogram*1.2))\n",
    "plt.xlabel('Number of test')\n",
    "plt.ylabel('Frequency')\n",
    "plt.title('Poisson Distribution')\n",
    "plt.show()\n"
   ]
  },
  {
   "cell_type": "markdown",
   "metadata": {},
   "source": [
    "**What happens at very large lambda?**"
   ]
  },
  {
   "cell_type": "code",
   "execution_count": 129,
   "metadata": {},
   "outputs": [
    {
     "data": {
      "image/png": "[encoded data removed]",
      "text/plain": [
       "<Figure size 720x288 with 1 Axes>"
      ]
     },
     "metadata": {
      "needs_background": "light"
     },
     "output_type": "display_data"
    }
   ],
   "source": [
    "import matplotlib.pyplot as plt\n",
    "%matplotlib inline\n",
    "lam = 50\n",
    "#samples = np.random.poisson(lam, 100000)\n",
    "samples = np.random.poisson(lam, 100000)\n",
    "bins = np.linspace(0,100,101)\n",
    "histogram, bins = np.histogram(samples, bins=bins)\n",
    "bin_centers = 0.5*(bins[1:]+bins[:-1])\n",
    "\n",
    "plt.figure(figsize=(10,4))\n",
    "plt.plot()\n",
    "plt.plot(bin_centers, histogram)\n",
    "plt.ylim(0,np.max(histogram*1.2))\n",
    "plt.xlabel('Number of test')\n",
    "plt.ylabel('Frequency')\n",
    "plt.title('Poisson Distribution')\n",
    "plt.show()\n"
   ]
  },
  {
   "cell_type": "markdown",
   "metadata": {},
   "source": [
    "***"
   ]
  },
  {
   "cell_type": "markdown",
   "metadata": {},
   "source": [
    "## Conclusion: "
   ]
  },
  {
   "cell_type": "markdown",
   "metadata": {},
   "source": [
    " Save your notebook.  Append your LastNameFirstInitial to the filename, and email it to me"
   ]
  }
 ],
 "metadata": {
  "kernelspec": {
   "display_name": "Python 3",
   "language": "python",
   "name": "python3"
  },
  "language_info": {
   "codemirror_mode": {
    "name": "ipython",
    "version": 3
   },
   "file_extension": ".py",
   "mimetype": "text/x-python",
   "name": "python",
   "nbconvert_exporter": "python",
   "pygments_lexer": "ipython3",
   "version": "3.7.4"
  }
 },
 "nbformat": 4,
 "nbformat_minor": 4
}
